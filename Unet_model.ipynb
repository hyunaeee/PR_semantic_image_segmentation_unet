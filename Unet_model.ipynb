{
  "nbformat": 4,
  "nbformat_minor": 0,
  "metadata": {
    "colab": {
      "provenance": [],
      "authorship_tag": "ABX9TyML+RedPxbW+O8mXRmgbR7t",
      "include_colab_link": true
    },
    "kernelspec": {
      "name": "python3",
      "display_name": "Python 3"
    },
    "language_info": {
      "name": "python"
    }
  },
  "cells": [
    {
      "cell_type": "markdown",
      "metadata": {
        "id": "view-in-github",
        "colab_type": "text"
      },
      "source": [
        "<a href=\"https://colab.research.google.com/github/hyunaeee/PR_semantic_image_segmentation_unet/blob/main/Unet_model.ipynb\" target=\"_parent\"><img src=\"https://colab.research.google.com/assets/colab-badge.svg\" alt=\"Open In Colab\"/></a>"
      ]
    },
    {
      "cell_type": "code",
      "metadata": {
        "id": "utka4b7Ng8Do"
      },
      "source": [
        "# unet_model.py\n",
        "from keras.models import Model\n",
        "from keras.backend import int_shape\n",
        "from keras.layers import BatchNormalization, Conv2D, Conv2DTranspose, MaxPooling2D, Dropout, UpSampling2D, Input, concatenate\n"
      ],
      "execution_count": null,
      "outputs": []
    },
    {
      "cell_type": "code",
      "metadata": {
        "id": "FkmC7ylRhbpW"
      },
      "source": [
        "# train.py\n",
        "import numpy as np\n",
        "import matplotlib.pyplot as plt\n",
        "import glob\n",
        "import os\n",
        "import sys\n",
        "from PIL import Image\n",
        "masks = glob.glob(\"./dataset/ct21/train/label/*.png\")\n",
        "orgs = glob.glob(\"./dataset/ct21/train/image/*.png\")\n"
      ],
      "execution_count": null,
      "outputs": []
    },
    {
      "cell_type": "code",
      "metadata": {
        "colab": {
          "base_uri": "https://localhost:8080/",
          "height": 266
        },
        "id": "-3qBriWvh2Ku",
        "outputId": "1ec1ddba-e5ea-45ad-e5cb-493120a19ad9"
      },
      "source": [
        "# test.py\n",
        "from PIL import Image\n",
        "import numpy as np\n",
        "import glob\n",
        "masks = glob.glob(\"./dataset/ct21/train/label/*.png\")\n",
        "orgs = glob.glob(\"./dataset/ct21/train/image/*.png\")\n",
        "imgs_list = []\n",
        "masks_list = []\n",
        "for image, mask in zip(orgs, masks):\n",
        "    imgs_list.append(np.array(Image.open(image).resize((512,512))))\n",
        "\n",
        "    im = Image.open(mask).resize((512,512))\n",
        "    masks_list.append(np.array(im))\n",
        "imgs_np = np.asarray(imgs_list)\n",
        "masks_np = np.asarray(masks_list)\n",
        "x = np.asarray(imgs_np, dtype=np.float32)/255\n",
        "y = np.asarray(masks_np, dtype=np.float32)/255\n",
        "y = y.reshape(y.shape[0], y.shape[1], y.shape[2], 1)\n",
        "x = x.reshape(x.shape[0], x.shape[1], x.shape[2], 1)\n",
        "\n",
        "from sklearn.model_selection import train_test_split\n",
        "x_train, x_val, y_train, y_val = train_test_split(x, y, test_size=0.1, random_state=0)\n",
        "from unet_model import unet_model\n",
        "input_shape = x_train[0].shape\n",
        "model = unet_model(\n",
        "    input_shape,\n",
        "    num_classes=1,\n",
        "    filters=64,\n",
        "    dropout=0.2,\n",
        "    num_layers=4,\n",
        "    output_activation='sigmoid'\n",
        ")\n",
        "model_filename = 'segm_model_v0.h5'\n",
        "model.load_weights(model_filename)\n",
        "y_pred = model.predict(x_val)\n",
        "from utils import plot_imgs\n",
        "plot_imgs(org_imgs=x_val, mask_imgs=y_val, pred_imgs=y_pred, nm_img_to_plot=3)"
      ],
      "execution_count": null,
      "outputs": [
        {
          "output_type": "error",
          "ename": "IndexError",
          "evalue": "ignored",
          "traceback": [
            "\u001b[0;31m---------------------------------------------------------------------------\u001b[0m",
            "\u001b[0;31mIndexError\u001b[0m                                Traceback (most recent call last)",
            "\u001b[0;32m<ipython-input-29-df6bf3ab3528>\u001b[0m in \u001b[0;36m<module>\u001b[0;34m()\u001b[0m\n\u001b[1;32m     16\u001b[0m \u001b[0mx\u001b[0m \u001b[0;34m=\u001b[0m \u001b[0mnp\u001b[0m\u001b[0;34m.\u001b[0m\u001b[0masarray\u001b[0m\u001b[0;34m(\u001b[0m\u001b[0mimgs_np\u001b[0m\u001b[0;34m,\u001b[0m \u001b[0mdtype\u001b[0m\u001b[0;34m=\u001b[0m\u001b[0mnp\u001b[0m\u001b[0;34m.\u001b[0m\u001b[0mfloat32\u001b[0m\u001b[0;34m)\u001b[0m\u001b[0;34m/\u001b[0m\u001b[0;36m255\u001b[0m\u001b[0;34m\u001b[0m\u001b[0;34m\u001b[0m\u001b[0m\n\u001b[1;32m     17\u001b[0m \u001b[0my\u001b[0m \u001b[0;34m=\u001b[0m \u001b[0mnp\u001b[0m\u001b[0;34m.\u001b[0m\u001b[0masarray\u001b[0m\u001b[0;34m(\u001b[0m\u001b[0mmasks_np\u001b[0m\u001b[0;34m,\u001b[0m \u001b[0mdtype\u001b[0m\u001b[0;34m=\u001b[0m\u001b[0mnp\u001b[0m\u001b[0;34m.\u001b[0m\u001b[0mfloat32\u001b[0m\u001b[0;34m)\u001b[0m\u001b[0;34m/\u001b[0m\u001b[0;36m255\u001b[0m\u001b[0;34m\u001b[0m\u001b[0;34m\u001b[0m\u001b[0m\n\u001b[0;32m---> 18\u001b[0;31m \u001b[0my\u001b[0m \u001b[0;34m=\u001b[0m \u001b[0my\u001b[0m\u001b[0;34m.\u001b[0m\u001b[0mreshape\u001b[0m\u001b[0;34m(\u001b[0m\u001b[0my\u001b[0m\u001b[0;34m.\u001b[0m\u001b[0mshape\u001b[0m\u001b[0;34m[\u001b[0m\u001b[0;36m0\u001b[0m\u001b[0;34m]\u001b[0m\u001b[0;34m,\u001b[0m \u001b[0my\u001b[0m\u001b[0;34m.\u001b[0m\u001b[0mshape\u001b[0m\u001b[0;34m[\u001b[0m\u001b[0;36m1\u001b[0m\u001b[0;34m]\u001b[0m\u001b[0;34m,\u001b[0m \u001b[0my\u001b[0m\u001b[0;34m.\u001b[0m\u001b[0mshape\u001b[0m\u001b[0;34m[\u001b[0m\u001b[0;36m2\u001b[0m\u001b[0;34m]\u001b[0m\u001b[0;34m,\u001b[0m \u001b[0;36m1\u001b[0m\u001b[0;34m)\u001b[0m\u001b[0;34m\u001b[0m\u001b[0;34m\u001b[0m\u001b[0m\n\u001b[0m\u001b[1;32m     19\u001b[0m \u001b[0mx\u001b[0m \u001b[0;34m=\u001b[0m \u001b[0mx\u001b[0m\u001b[0;34m.\u001b[0m\u001b[0mreshape\u001b[0m\u001b[0;34m(\u001b[0m\u001b[0mx\u001b[0m\u001b[0;34m.\u001b[0m\u001b[0mshape\u001b[0m\u001b[0;34m[\u001b[0m\u001b[0;36m0\u001b[0m\u001b[0;34m]\u001b[0m\u001b[0;34m,\u001b[0m \u001b[0mx\u001b[0m\u001b[0;34m.\u001b[0m\u001b[0mshape\u001b[0m\u001b[0;34m[\u001b[0m\u001b[0;36m1\u001b[0m\u001b[0;34m]\u001b[0m\u001b[0;34m,\u001b[0m \u001b[0mx\u001b[0m\u001b[0;34m.\u001b[0m\u001b[0mshape\u001b[0m\u001b[0;34m[\u001b[0m\u001b[0;36m2\u001b[0m\u001b[0;34m]\u001b[0m\u001b[0;34m,\u001b[0m \u001b[0;36m1\u001b[0m\u001b[0;34m)\u001b[0m\u001b[0;34m\u001b[0m\u001b[0;34m\u001b[0m\u001b[0m\n\u001b[1;32m     20\u001b[0m \u001b[0;32mfrom\u001b[0m \u001b[0msklearn\u001b[0m\u001b[0;34m.\u001b[0m\u001b[0mmodel_selection\u001b[0m \u001b[0;32mimport\u001b[0m \u001b[0mtrain_test_split\u001b[0m\u001b[0;34m\u001b[0m\u001b[0;34m\u001b[0m\u001b[0m\n",
            "\u001b[0;31mIndexError\u001b[0m: tuple index out of range"
          ]
        }
      ]
    },
    {
      "cell_type": "code",
      "metadata": {
        "id": "Fn59OGd0hIGv"
      },
      "source": [
        "def upsample_conv(filters, kernel_size, strides, padding):\n",
        "    return Conv2DTranspose(filters, kernel_size, strides=strides, padding=padding)\n",
        "def upsample_simple(filters, kernel_size, strides, padding):\n",
        "    return UpSampling2D(strides)"
      ],
      "execution_count": null,
      "outputs": []
    },
    {
      "cell_type": "code",
      "metadata": {
        "id": "hPgT-ZCRhK9P"
      },
      "source": [
        "def conv2d_block(\n",
        "    inputs,\n",
        "    use_batch_norm=True,\n",
        "    dropout=0.3,\n",
        "    filters=16,\n",
        "    kernel_size=(3,3),\n",
        "    activation='relu',\n",
        "    kernel_initializer='he_normal',\n",
        "    padding='same'):\n",
        "\n",
        "    c = Conv2D(filters, kernel_size, activation=activation,\n",
        "    kernel_initializer=kernel_initializer, padding=padding) (inputs)\n",
        "    if use_batch_norm:\n",
        "        c = BatchNormalization()(c)\n",
        "    if dropout > 0.0:\n",
        "        c = Dropout(dropout)(c)\n",
        "    c = Conv2D(filters, kernel_size, activation=activation,\n",
        "    kernel_initializer=kernel_initializer, padding=padding) (c)\n",
        "    if use_batch_norm:\n",
        "        c = BatchNormalization()(c)\n",
        "    return c"
      ],
      "execution_count": null,
      "outputs": []
    },
    {
      "cell_type": "code",
      "metadata": {
        "id": "ShuiFItShZec"
      },
      "source": [
        "def unet_model(\n",
        "    input_shape,\n",
        "    num_classes=1,\n",
        "    use_batch_norm=True,\n",
        "    upsample_mode='deconv', # 'de-convolution' or 'simple upsampling'\n",
        "    use_dropout_on_upsampling=False,\n",
        "    dropout=0.3,\n",
        "    dropout_change_per_layer=0.0,\n",
        "    filters=16,\n",
        "    num_layers=4,\n",
        "    output_activation='sigmoid'): # 'sigmoid' or 'softmax'\n",
        "\n",
        "    if upsample_mode=='deconv':\n",
        "        upsample=upsample_conv\n",
        "    else:\n",
        "        upsample=upsample_simple\n",
        "\n",
        "    # Build U-Net model\n",
        "    inputs = Input(input_shape)\n",
        "    x = inputs\n",
        "    down_layers = []\n",
        "    for l in range(num_layers):\n",
        "        x = conv2d_block(inputs=x, filters=filters, use_batch_norm=use_batch_norm,\n",
        "    dropout=dropout)\n",
        "        down_layers.append(x)\n",
        "        x = MaxPooling2D((2, 2)) (x)\n",
        "        dropout += dropout_change_per_layer\n",
        "        filters = filters*2 # double the number of filters with each layer\n",
        "    x = conv2d_block(inputs=x, filters=filters, use_batch_norm=use_batch_norm,\n",
        "    dropout=dropout)\n",
        "    if not use_dropout_on_upsampling:\n",
        "        dropout = 0.0\n",
        "        dropout_change_per_layer = 0.0\n",
        "    for conv in reversed(down_layers):\n",
        "        filters //= 2 # decrease the number of filters with each layer\n",
        "        dropout -= dropout_change_per_layer\n",
        "        x = upsample(filters, (2, 2), strides=(2, 2), padding='same') (x)\n",
        "        x = concatenate([x, conv])\n",
        "        x = conv2d_block(inputs=x, filters=filters,      use_batch_norm=use_batch_norm,\n",
        "    dropout=dropout)\n",
        "\n",
        "    outputs = Conv2D(num_classes, (1, 1), activation=output_activation) (x)\n",
        "\n",
        "    model = Model(inputs=[inputs], outputs=[outputs])\n",
        "    return model"
      ],
      "execution_count": null,
      "outputs": []
    },
    {
      "cell_type": "code",
      "metadata": {
        "id": "1DsrcL82hinZ"
      },
      "source": [
        "imgs_list = []\n",
        "masks_list = []\n",
        "for image, mask in zip(orgs, masks):\n",
        "    imgs_list.append(np.array(Image.open(image).resize((512,512))))\n",
        "\n",
        "    im = Image.open(mask).resize((512,512))\n",
        "    masks_list.append(np.array(im))\n",
        "imgs_np = np.asarray(imgs_list)\n",
        "masks_np = np.asarray(masks_list)"
      ],
      "execution_count": null,
      "outputs": []
    },
    {
      "cell_type": "code",
      "metadata": {
        "id": "Fvk0EzszhpzX"
      },
      "source": [
        "from sklearn.model_selection import train_test_split\n",
        "x_train, x_val, y_train, y_val = train_test_split(x, y, test_size=0.5, random_state=0)"
      ],
      "execution_count": null,
      "outputs": []
    },
    {
      "cell_type": "code",
      "metadata": {
        "id": "2IUeCMuehr88"
      },
      "source": [
        "from utils import get_augmented\n",
        "train_gen = get_augmented(\n",
        "    x_train, y_train, batch_size=2,\n",
        "    data_gen_args = dict(\n",
        "        rotation_range=15.,\n",
        "        width_shift_range=0.05,\n",
        "        height_shift_range=0.05,\n",
        "        shear_range=50,\n",
        "        zoom_range=0.2,\n",
        "        horizontal_flip=True,\n",
        "        vertical_flip=True,\n",
        "        fill_mode='constant'\n",
        "    ))"
      ],
      "execution_count": null,
      "outputs": []
    },
    {
      "cell_type": "code",
      "metadata": {
        "id": "-46hMBFmhuk1"
      },
      "source": [
        "sample_batch = next(train_gen)\n",
        "xx, yy = sample_batch\n",
        "print(xx.shape, yy.shape)\n",
        "from keras_unet.utils import plot_imgs\n",
        "plot_imgs(org_imgs=xx, mask_imgs=yy, nm_img_to_plot=2, figsize=6)"
      ],
      "execution_count": null,
      "outputs": []
    },
    {
      "cell_type": "code",
      "metadata": {
        "id": "Jck9FkPghvJX"
      },
      "source": [
        "from unet_model import unet_model\n",
        "input_shape = x_train[0].shape\n",
        "model = unet_model(\n",
        "    input_shape,\n",
        "    num_classes=1,\n",
        "    filters=64,\n",
        "    dropout=0.2,\n",
        "    num_layers=4,\n",
        "    output_activation='sigmoid'\n",
        ")\n",
        "print(model.summary())"
      ],
      "execution_count": null,
      "outputs": []
    },
    {
      "cell_type": "code",
      "metadata": {
        "id": "qhaWa6ZUhzVz"
      },
      "source": [
        "from keras.callbacks import ModelCheckpoint\n",
        "model_filename = 'segm_model_v0.h5'\n",
        "callback_checkpoint = ModelCheckpoint(\n",
        "    model_filename,\n",
        "    verbose=1,\n",
        "    monitor='val_loss',\n",
        "    save_best_only=True,\n",
        ")\n",
        "from keras.optimizers import Adam, SGD\n",
        "from metrics import iou, iou_thresholded\n",
        "model.compile(\n",
        "    optimizer=SGD(lr=0.01, momentum=0.99),\n",
        "    loss='binary_crossentropy',\n",
        "    metrics=[iou, iou_thresholded]\n",
        ")"
      ],
      "execution_count": null,
      "outputs": []
    },
    {
      "cell_type": "code",
      "metadata": {
        "id": "xBeBkhich1ri"
      },
      "source": [
        "history = model.fit_generator(\n",
        "    train_gen,\n",
        "    steps_per_epoch=100,\n",
        "    epochs=10,\n",
        "\n",
        "    validation_data=(x_val, y_val),\n",
        "    callbacks=[callback_checkpoint]\n",
        ")"
      ],
      "execution_count": null,
      "outputs": []
    }
  ]
}