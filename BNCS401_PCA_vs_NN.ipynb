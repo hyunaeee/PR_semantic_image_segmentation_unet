{
  "nbformat": 4,
  "nbformat_minor": 0,
  "metadata": {
    "colab": {
      "provenance": [],
      "include_colab_link": true
    },
    "kernelspec": {
      "name": "python3",
      "display_name": "Python 3"
    }
  },
  "cells": [
    {
      "cell_type": "markdown",
      "metadata": {
        "id": "view-in-github",
        "colab_type": "text"
      },
      "source": [
        "<a href=\"https://colab.research.google.com/github/hyunaeee/PR_semantic_image_segmentation_unet/blob/main/BNCS401_PCA_vs_NN.ipynb\" target=\"_parent\"><img src=\"https://colab.research.google.com/assets/colab-badge.svg\" alt=\"Open In Colab\"/></a>"
      ]
    },
    {
      "cell_type": "code",
      "metadata": {
        "id": "S3X88rJLWwEO"
      },
      "source": [
        "try:\n",
        "    # %tensorflow_version only exists in Colab.\n",
        "    %tensorflow_version 2.x\n",
        "except Exception:\n",
        "    pass"
      ],
      "execution_count": null,
      "outputs": []
    },
    {
      "cell_type": "code",
      "metadata": {
        "id": "kHaWNaLFWDOU"
      },
      "source": [
        "# Python ≥3.5 is required\n",
        "import sys\n",
        "assert sys.version_info >= (3, 5)\n",
        "\n",
        "# Scikit-Learn ≥0.20 is required\n",
        "import sklearn\n",
        "assert sklearn.__version__ >= \"0.20\"\n",
        "\n",
        "# TensorFlow ≥2.0 is required\n",
        "import tensorflow as tf\n",
        "from tensorflow import keras\n",
        "assert tf.__version__ >= \"2.0\"\n",
        "\n",
        "# Common imports\n",
        "import numpy as np"
      ],
      "execution_count": null,
      "outputs": []
    },
    {
      "cell_type": "code",
      "metadata": {
        "id": "kKdw400fXxBk"
      },
      "source": [
        "import matplotlib as mpl\n",
        "import matplotlib.pyplot as plt\n",
        "%matplotlib inline\n",
        "def plot_digits(instances, images_per_row=5, **options):\n",
        "    size = 28\n",
        "    images_per_row = min(len(instances), images_per_row)\n",
        "    images = [instance.reshape(size,size) for instance in instances]\n",
        "    n_rows = (len(instances) - 1) // images_per_row + 1\n",
        "    row_images = []\n",
        "    n_empty = n_rows * images_per_row - len(instances)\n",
        "    images.append(np.zeros((size, size * n_empty)))\n",
        "    for row in range(n_rows):\n",
        "        rimages = images[row * images_per_row : (row + 1) * images_per_row]\n",
        "        row_images.append(np.concatenate(rimages, axis=1))\n",
        "    image = np.concatenate(row_images, axis=0)\n",
        "    plt.imshow(image, cmap = mpl.cm.binary, **options)\n",
        "    plt.axis(\"off\")"
      ],
      "execution_count": null,
      "outputs": []
    },
    {
      "cell_type": "markdown",
      "metadata": {
        "id": "IaLzbSlJdG7I"
      },
      "source": [
        "#MNIST"
      ]
    },
    {
      "cell_type": "code",
      "metadata": {
        "id": "Yys4914vWnvi"
      },
      "source": [
        "(X_train_full, y_train_full), (X_test, y_test) = keras.datasets.mnist.load_data()\n",
        "X_train_full = tf.reshape(X_train_full, (X_train_full.shape[0], -1)).numpy()\n",
        "X_test = tf.reshape(X_test, (X_test.shape[0], -1)).numpy()\n",
        "\n",
        "X_train_full = X_train_full / 255.0\n",
        "X_test = X_test / 255.0\n",
        "X_valid, X_train = X_train_full[:5000], X_train_full[5000:]\n",
        "y_valid, y_train = y_train_full[:5000], y_train_full[5000:]"
      ],
      "execution_count": null,
      "outputs": []
    },
    {
      "cell_type": "code",
      "metadata": {
        "id": "3f1wYqwkXMGt",
        "outputId": "4aaa0fb9-36e7-4c73-ddc8-5827963e5f3b",
        "colab": {
          "base_uri": "https://localhost:8080/",
          "height": 52
        }
      },
      "source": [
        "from sklearn.decomposition import PCA\n",
        "\n",
        "pca = PCA()\n",
        "pca.fit(X_train)"
      ],
      "execution_count": null,
      "outputs": [
        {
          "output_type": "execute_result",
          "data": {
            "text/plain": [
              "PCA(copy=True, iterated_power='auto', n_components=None, random_state=None,\n",
              "    svd_solver='auto', tol=0.0, whiten=False)"
            ]
          },
          "metadata": {
            "tags": []
          },
          "execution_count": 41
        }
      ]
    },
    {
      "cell_type": "code",
      "metadata": {
        "id": "1lXkGRwlcsjC"
      },
      "source": [
        "cumsum = np.cumsum(pca.explained_variance_ratio_)\n",
        "d = np.argmax(cumsum >= 0.95) + 1"
      ],
      "execution_count": null,
      "outputs": []
    },
    {
      "cell_type": "code",
      "metadata": {
        "id": "Iow9MzT5dBa4",
        "outputId": "93d4b67a-e89c-4219-d5d5-9b5f412c4f3d",
        "colab": {
          "base_uri": "https://localhost:8080/",
          "height": 283
        }
      },
      "source": [
        "plt.figure(figsize=(6,4))\n",
        "plt.plot(cumsum, linewidth=3)\n",
        "plt.axis([0, 400, 0, 1])\n",
        "plt.xlabel(\"Dimensions\")\n",
        "plt.ylabel(\"Explained Variance\")\n",
        "plt.plot([d, d], [0, 0.95], \"k:\")\n",
        "plt.plot([0, d], [0.95, 0.95], \"k:\")\n",
        "plt.plot(d, 0.95, \"ko\")\n",
        "plt.annotate(\"Elbow\", xy=(65, 0.85), xytext=(70, 0.7),\n",
        "             arrowprops=dict(arrowstyle=\"->\"), fontsize=16)\n",
        "plt.grid(True)\n",
        "plt.show()"
      ],
      "execution_count": null,
      "outputs": [
        {
          "output_type": "display_data",
          "data": {
            "image/png": "[encoded data removed]",
            "text/plain": [
              "<Figure size 432x288 with 1 Axes>"
            ]
          },
          "metadata": {
            "tags": []
          }
        }
      ]
    },
    {
      "cell_type": "code",
      "metadata": {
        "id": "LKj0wHIncidv"
      },
      "source": [
        "pca = PCA(n_components=154)\n",
        "X_train_2D = pca.fit_transform(X_train)\n",
        "X_train_recon = pca.inverse_transform(X_train_2D)"
      ],
      "execution_count": null,
      "outputs": []
    },
    {
      "cell_type": "code",
      "metadata": {
        "id": "juwTqV4SiyQA"
      },
      "source": [
        "def plot_input_recon(original, reconstructed):\n",
        "  plt.figure(figsize=(7, 4))\n",
        "  plt.subplot(121)\n",
        "  plot_digits(original)\n",
        "  plt.title(\"Original\", fontsize=16)\n",
        "  plt.subplot(122)\n",
        "  plot_digits(reconstructed)\n",
        "  plt.title(\"Compressed\", fontsize=16)"
      ],
      "execution_count": null,
      "outputs": []
    },
    {
      "cell_type": "code",
      "metadata": {
        "id": "h3-JS9ELjkcS"
      },
      "source": [
        "def scatter_compressed(compression, color_label):\n",
        "  plt.figure(figsize=(6,6))\n",
        "  plt.scatter(compression[:, 0], compression[:, 1], c=color_label, cmap=\"jet\")\n",
        "  plt.axis('off')\n",
        "  plt.colorbar()\n",
        "  plt.show()"
      ],
      "execution_count": null,
      "outputs": []
    },
    {
      "cell_type": "markdown",
      "metadata": {
        "id": "NC8jc-vszaBF"
      },
      "source": [
        "**Write your code to reduce into 2D with PCA**"
      ]
    },
    {
      "cell_type": "code",
      "metadata": {
        "id": "V_1XeyDSbyNS"
      },
      "source": [
        "# your code"
      ],
      "execution_count": null,
      "outputs": []
    },
    {
      "cell_type": "markdown",
      "metadata": {
        "id": "LXVb40JvzmNG"
      },
      "source": [
        "**Write your code to implement a two-layer neural network for dimension reduction**"
      ]
    },
    {
      "cell_type": "code",
      "metadata": {
        "id": "v4FSxMdBfIJm"
      },
      "source": [
        "from tensorflow import keras\n",
        "\n",
        "model = keras.Sequential()\n",
        "# Build your architecture here\n",
        "#mdel find\n",
        "\n",
        "# Set the name of the hidden layer to be \"compression\"\n",
        "#X_train compile find\n",
        "# Train your model with \"X_train\"\n",
        "#Train model find"
      ],
      "execution_count": null,
      "outputs": []
    },
    {
      "cell_type": "code",
      "metadata": {
        "id": "ETt89-1bgi55"
      },
      "source": [
        "compression_layer = keras.Model([model.layers[0].input], [model.get_layer(\"compression\").output])\n",
        "X_train_NN_2D = compression_layer.predict(X_train)\n",
        "reconstructed_NN = model.predict(X_train)"
      ],
      "execution_count": null,
      "outputs": []
    },
    {
      "cell_type": "markdown",
      "metadata": {
        "id": "L0DEJltj0AKA"
      },
      "source": [
        "Write your code to implement a deep neural network (e.g., 784-200-100-50-2-50-100-200-784) for dimension reduction"
      ]
    },
    {
      "cell_type": "code",
      "metadata": {
        "id": "WWDs9lXBj-WX"
      },
      "source": [
        "deep_model = keras.Sequential()\n",
        "# Build your architecture here\n",
        "# Set the name of the intermediate layer (with 2 units) to be \"compression\"\n",
        "\n",
        "# Train your model with \"X_train\""
      ],
      "execution_count": null,
      "outputs": []
    },
    {
      "cell_type": "code",
      "metadata": {
        "id": "3D6GX3adlqzQ"
      },
      "source": [
        "deep_compression_layer = keras.Model([deep_model.layers[0].input], [deep_model.get_layer(\"compression\").output])\n",
        "X_train_deepNN_2D = deep_compression_layer.predict(X_train)\n",
        "reconstructed_deepNN = deep_model.predict(X_train)"
      ],
      "execution_count": null,
      "outputs": []
    },
    {
      "cell_type": "code",
      "metadata": {
        "id": "bP6vlN7eqClG"
      },
      "source": [
        "plot_input_recon(X_train[::2100], X_train_recon[::2100])\n",
        "plot_input_recon(X_train[::2100], reconstructed_NN[::2100])\n",
        "plot_input_recon(X_train[::2100], reconstructed_deepNN[::2100])"
      ],
      "execution_count": null,
      "outputs": []
    },
    {
      "cell_type": "code",
      "metadata": {
        "id": "89GO7FSeqHRs"
      },
      "source": [
        "scatter_compressed(X_train_2D, y_train)\n",
        "scatter_compressed(X_train_NN_2D, y_train)\n",
        "scatter_compressed(X_train_deepNN_2D, y_train)"
      ],
      "execution_count": null,
      "outputs": []
    },
    {
      "cell_type": "code",
      "metadata": {
        "id": "LJNjrCq7q5FN"
      },
      "source": [],
      "execution_count": null,
      "outputs": []
    }
  ]
}